{
  "nbformat": 4,
  "nbformat_minor": 0,
  "metadata": {
    "colab": {
      "provenance": [],
      "authorship_tag": "ABX9TyNa+9YdLpTjSwuyH9u30oDJ",
      "include_colab_link": true
    },
    "kernelspec": {
      "name": "python3",
      "display_name": "Python 3"
    },
    "language_info": {
      "name": "python"
    }
  },
  "cells": [
    {
      "cell_type": "markdown",
      "metadata": {
        "id": "view-in-github",
        "colab_type": "text"
      },
      "source": [
        "<a href=\"https://colab.research.google.com/github/Yhawech/Exam--Practice/blob/master/Practical1.ipynb\" target=\"_parent\"><img src=\"https://colab.research.google.com/assets/colab-badge.svg\" alt=\"Open In Colab\"/></a>"
      ]
    },
    {
      "cell_type": "code",
      "source": [
        "#Wite a example to for linear regression that student pass or fail predicted based on hour it studied\n",
        "import pandas as pd\n",
        "from sklearn.linear_model import LinearRegression\n",
        "\n",
        "\n",
        "data = {'Hours_Studied': [2, 3, 4, 5, 6, 7, 8, 9, 10],\n",
        "        'Exam_Score': [50, 60, 70, 75, 80, 85, 90, 95, 98]}\n",
        "df = pd.DataFrame(data)\n",
        "\n",
        "\n",
        "X = df[['Hours_Studied']]\n",
        "y = df['Exam_Score']\n",
        "\n",
        "\n",
        "model = LinearRegression()\n",
        "model.fit(X, y)\n",
        "\n",
        "\n",
        "new_student_hours = pd.DataFrame({'Hours_Studied': [7]})\n",
        "predicted_score = model.predict(new_student_hours)\n",
        "\n",
        "\n",
        "pass_threshold = 70\n",
        "if predicted_score[0] >= pass_threshold:\n",
        "    print(f\"Predicted Exam Score: {predicted_score[0]} - This student is likely to pass.\")\n",
        "else:\n",
        "    print(f\"Predicted Exam Score: {predicted_score[0]} - This student is likely to fail.\")"
      ],
      "metadata": {
        "colab": {
          "base_uri": "https://localhost:8080/"
        },
        "id": "sAZaN2gjalTz",
        "outputId": "d07d5c6d-1d97-4739-f825-2a9016d73838"
      },
      "execution_count": 15,
      "outputs": [
        {
          "output_type": "stream",
          "name": "stdout",
          "text": [
            "Predicted Exam Score: 83.89444444444445 - This student is likely to pass.\n"
          ]
        }
      ]
    },
    {
      "cell_type": "code",
      "source": [
        "#Write example for logostic regression for student pass or fail\n",
        "import pandas as pd\n",
        "from sklearn.linear_model import LogisticRegression\n",
        "\n",
        "\n",
        "data = {'Hours_Studied': [2, 3, 4, 5, 6, 7, 8, 9, 10],\n",
        "        'Exam_Score': [50, 60, 70, 75, 80, 85, 90, 95, 98],\n",
        "        'Passed': [0, 0, 0, 1, 1, 1, 1, 1, 1]}\n",
        "df = pd.DataFrame(data)\n",
        "\n",
        "\n",
        "X = df[['Hours_Studied', 'Exam_Score']]\n",
        "y = df['Passed']\n",
        "\n",
        "\n",
        "model = LogisticRegression()\n",
        "model.fit(X, y)\n",
        "\n",
        "new_student_data = pd.DataFrame({'Hours_Studied': [6], 'Exam_Score': [70]})\n",
        "prediction = model.predict(new_student_data)\n",
        "\n",
        "if prediction[0] == 1:\n",
        "    print(\"This student is likely to pass.\")\n",
        "else:\n",
        "    print(\"This student is likely to fail.\")"
      ],
      "metadata": {
        "colab": {
          "base_uri": "https://localhost:8080/"
        },
        "id": "CLpaS9R0etM7",
        "outputId": "a14b60a9-40ae-4f66-bad1-1a4d968e0f23"
      },
      "execution_count": 16,
      "outputs": [
        {
          "output_type": "stream",
          "name": "stdout",
          "text": [
            "This student is likely to fail.\n"
          ]
        }
      ]
    }
  ]
}