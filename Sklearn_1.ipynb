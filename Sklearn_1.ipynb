{
  "nbformat": 4,
  "nbformat_minor": 0,
  "metadata": {
    "colab": {
      "provenance": [],
      "authorship_tag": "ABX9TyMtrkfJrFcTtoWbQGFB5b/6",
      "include_colab_link": true
    },
    "kernelspec": {
      "name": "python3",
      "display_name": "Python 3"
    },
    "language_info": {
      "name": "python"
    }
  },
  "cells": [
    {
      "cell_type": "markdown",
      "metadata": {
        "id": "view-in-github",
        "colab_type": "text"
      },
      "source": [
        "<a href=\"https://colab.research.google.com/github/Yhawech/Exam--Practice/blob/master/Sklearn_1.ipynb\" target=\"_parent\"><img src=\"https://colab.research.google.com/assets/colab-badge.svg\" alt=\"Open In Colab\"/></a>"
      ]
    },
    {
      "cell_type": "code",
      "execution_count": null,
      "metadata": {
        "colab": {
          "base_uri": "https://localhost:8080/"
        },
        "id": "RBujVMZYztbv",
        "outputId": "b32bb337-8007-4204-f5c0-dd12956dc607"
      },
      "outputs": [
        {
          "output_type": "stream",
          "name": "stdout",
          "text": [
            "Length of x_train: 80\n",
            "Length of x_test: 20\n",
            "Length of y_train: 80\n",
            "Length of y_test: 20\n"
          ]
        }
      ],
      "source": [
        "from sklearn.model_selection import train_test_split\n",
        "\n",
        "\n",
        "X = [[i for i in range(10)] for _ in range(100)]\n",
        "y = [i % 2 for i in range(100)]\n",
        "\n",
        "x_train, x_test, y_train, y_test = train_test_split(X, y, test_size=0.2, random_state=0)\n",
        "\n",
        "print(\"Length of x_train:\", len(x_train))\n",
        "print(\"Length of x_test:\", len(x_test))\n",
        "print(\"Length of y_train:\", len(y_train))\n",
        "print(\"Length of y_test:\", len(y_test))"
      ]
    }
  ]
}