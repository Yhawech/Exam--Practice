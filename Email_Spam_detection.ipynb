{
  "nbformat": 4,
  "nbformat_minor": 0,
  "metadata": {
    "colab": {
      "provenance": [],
      "authorship_tag": "ABX9TyMXtrd2NpoZX3zQisnb/Xhy",
      "include_colab_link": true
    },
    "kernelspec": {
      "name": "python3",
      "display_name": "Python 3"
    },
    "language_info": {
      "name": "python"
    }
  },
  "cells": [
    {
      "cell_type": "markdown",
      "metadata": {
        "id": "view-in-github",
        "colab_type": "text"
      },
      "source": [
        "<a href=\"https://colab.research.google.com/github/Yhawech/Exam--Practice/blob/master/Email_Spam_detection.ipynb\" target=\"_parent\"><img src=\"https://colab.research.google.com/assets/colab-badge.svg\" alt=\"Open In Colab\"/></a>"
      ]
    },
    {
      "cell_type": "code",
      "execution_count": 1,
      "metadata": {
        "colab": {
          "base_uri": "https://localhost:8080/"
        },
        "id": "0nQkbCxxFVXN",
        "outputId": "205198d2-7681-402c-b03e-f86f9a99c105"
      },
      "outputs": [
        {
          "output_type": "stream",
          "name": "stdout",
          "text": [
            "Subject: Welcome to TMDB!\n",
            "Prediction: 🚨 SPAM\n",
            "--------------------------------------------------\n",
            "Subject: 😥 prerakthaker62, give us another chance? We’ve got thousands of new series and films.\n",
            "Prediction: ✅ Not Spam\n",
            "--------------------------------------------------\n",
            "Subject: Security alert\n",
            "Prediction: ✅ Not Spam\n",
            "--------------------------------------------------\n",
            "Subject: 2-Step Verification turned on\n",
            "Prediction: ✅ Not Spam\n",
            "--------------------------------------------------\n",
            "Subject: Security alert\n",
            "Prediction: ✅ Not Spam\n",
            "--------------------------------------------------\n"
          ]
        }
      ],
      "source": [
        "import imaplib\n",
        "import email\n",
        "from email.header import decode_header\n",
        "from sklearn.feature_extraction.text import TfidfVectorizer\n",
        "from sklearn.naive_bayes import MultinomialNB\n",
        "\n",
        "# --- Gmail Login ---\n",
        "IMAP_SERVER = \"imap.gmail.com\"\n",
        "EMAIL_ACCOUNT = \"prerakthaker62@gmail.com\"\n",
        "EMAIL_PASSWORD = \"qjoo bpdn efsa gfzz\"   # 16-digit App Password from Google\n",
        "\n",
        "mail = imaplib.IMAP4_SSL(IMAP_SERVER)\n",
        "mail.login(EMAIL_ACCOUNT, EMAIL_PASSWORD)\n",
        "mail.select(\"inbox\")\n",
        "\n",
        "# --- Fetch latest 5 emails ---\n",
        "status, messages = mail.search(None, \"ALL\")\n",
        "email_ids = messages[0].split()[-5:]  # last 5 emails\n",
        "\n",
        "emails_text = []\n",
        "subjects = []\n",
        "\n",
        "for e_id in email_ids:\n",
        "    res, msg_data = mail.fetch(e_id, \"(RFC822)\")\n",
        "    raw_msg = msg_data[0][1]\n",
        "    msg = email.message_from_bytes(raw_msg)\n",
        "\n",
        "    # Decode subject\n",
        "    subject, encoding = decode_header(msg[\"Subject\"])[0]\n",
        "    if isinstance(subject, bytes):\n",
        "        subject = subject.decode(encoding if encoding else \"utf-8\")\n",
        "    subjects.append(subject)\n",
        "\n",
        "    # Extract body\n",
        "    body = \"\"\n",
        "    if msg.is_multipart():\n",
        "        for part in msg.walk():\n",
        "            if part.get_content_type() == \"text/plain\":\n",
        "                body += part.get_payload(decode=True).decode(errors=\"ignore\")\n",
        "    else:\n",
        "        body = msg.get_payload(decode=True).decode(errors=\"ignore\")\n",
        "\n",
        "    emails_text.append(subject + \" \" + body)\n",
        "\n",
        "# --- Simple Spam Classifier ---\n",
        "X_train = [\"Win a free prize\", \"Claim your lottery now\",\n",
        "           \"Meeting agenda attached\", \"Let’s catch up tomorrow\"]\n",
        "y_train = [1, 1, 0, 0]  # 1 = spam, 0 = ham\n",
        "\n",
        "vectorizer = TfidfVectorizer(stop_words=\"english\")\n",
        "X_train_vec = vectorizer.fit_transform(X_train)\n",
        "\n",
        "model = MultinomialNB()\n",
        "model.fit(X_train_vec, y_train)\n",
        "\n",
        "# --- Predict each fetched email ---\n",
        "for subject, text in zip(subjects, emails_text):\n",
        "    X_test_vec = vectorizer.transform([text])\n",
        "    prediction = model.predict(X_test_vec)[0]\n",
        "    label = \"🚨 SPAM\" if prediction == 1 else \"✅ Not Spam\"\n",
        "    print(f\"Subject: {subject}\\nPrediction: {label}\\n{'-'*50}\")\n"
      ]
    }
  ]
}