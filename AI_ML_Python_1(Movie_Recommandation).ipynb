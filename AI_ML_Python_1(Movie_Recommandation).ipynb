{
  "nbformat": 4,
  "nbformat_minor": 0,
  "metadata": {
    "colab": {
      "provenance": [],
      "authorship_tag": "ABX9TyO0kMv6+tc/Z1HxePU5nmIK",
      "include_colab_link": true
    },
    "kernelspec": {
      "name": "python3",
      "display_name": "Python 3"
    },
    "language_info": {
      "name": "python"
    }
  },
  "cells": [
    {
      "cell_type": "markdown",
      "metadata": {
        "id": "view-in-github",
        "colab_type": "text"
      },
      "source": [
        "<a href=\"https://colab.research.google.com/github/Yhawech/Exam--Practice/blob/master/AI_ML_Python_1(Movie_Recommandation).ipynb\" target=\"_parent\"><img src=\"https://colab.research.google.com/assets/colab-badge.svg\" alt=\"Open In Colab\"/></a>"
      ]
    },
    {
      "cell_type": "code",
      "execution_count": 2,
      "metadata": {
        "id": "zOc5uCCBscPi",
        "colab": {
          "base_uri": "https://localhost:8080/"
        },
        "outputId": "ec708204-dd8c-45df-c13d-7180b3894678"
      },
      "outputs": [
        {
          "output_type": "stream",
          "name": "stdout",
          "text": [
            "Enter a genre (e.g. Action, Comedy, Drama): Horror\n",
            "\n",
            "🎥 Top Horror Movies:\n",
            "- Together (2025-07-23) ⭐ 7.136\n",
            "- The Conjuring: Last Rites (2025-09-03) ⭐ 7.344\n",
            "- I Know What You Did Last Summer (2025-07-16) ⭐ 5.9\n",
            "- Weapons (2025-08-04) ⭐ 7.5\n",
            "- The Home (2025-07-24) ⭐ 6.342\n"
          ]
        }
      ],
      "source": [
        "import requests\n",
        "\n",
        "# 🔑 Replace with your TMDb API Key after signup\n",
        "API_KEY = \"89caef19cd449ccd0fead14667ead5fe\"\n",
        "BASE_URL = \"https://api.themoviedb.org/3\"\n",
        "\n",
        "def get_genre_id(genre_name):\n",
        "    \"\"\"Fetch genre ID from genre name\"\"\"\n",
        "    url = f\"{BASE_URL}/genre/movie/list?api_key={API_KEY}&language=en-US\"\n",
        "    response = requests.get(url).json()\n",
        "    genres = response['genres']\n",
        "\n",
        "    for genre in genres:\n",
        "        if genre['name'].lower() == genre_name.lower():\n",
        "            return genre['id']\n",
        "    return None\n",
        "\n",
        "def recommend_by_genre(genre_name, num_recommendations=5):\n",
        "    \"\"\"Recommend movies from a given genre\"\"\"\n",
        "    genre_id = get_genre_id(genre_name)\n",
        "    if not genre_id:\n",
        "        return f\"❌ Genre '{genre_name}' not found.\"\n",
        "\n",
        "    url = f\"{BASE_URL}/discover/movie?api_key={API_KEY}&with_genres={genre_id}&sort_by=popularity.desc\"\n",
        "    response = requests.get(url).json()\n",
        "    results = response['results'][:num_recommendations]\n",
        "\n",
        "    recommendations = []\n",
        "    for movie in results:\n",
        "        recommendations.append({\n",
        "            \"title\": movie[\"title\"],\n",
        "            \"rating\": movie[\"vote_average\"],\n",
        "            \"release_date\": movie.get(\"release_date\", \"N/A\")\n",
        "        })\n",
        "\n",
        "    return recommendations\n",
        "\n",
        "# 🔹 Ask user for input\n",
        "user_genre = input(\"Enter a genre (e.g. Action, Comedy, Drama): \")\n",
        "movies = recommend_by_genre(user_genre, 5)\n",
        "\n",
        "print(f\"\\n🎥 Top {user_genre} Movies:\")\n",
        "for m in movies:\n",
        "    print(f\"- {m['title']} ({m['release_date']}) ⭐ {m['rating']}\")\n"
      ]
    }
  ]
}