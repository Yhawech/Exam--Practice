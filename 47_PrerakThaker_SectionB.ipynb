{
  "cells": [
    {
      "cell_type": "markdown",
      "metadata": {
        "id": "view-in-github",
        "colab_type": "text"
      },
      "source": [
        "<a href=\"https://colab.research.google.com/github/Yhawech/Exam--Practice/blob/master/47_PrerakThaker_SectionB.ipynb\" target=\"_parent\"><img src=\"https://colab.research.google.com/assets/colab-badge.svg\" alt=\"Open In Colab\"/></a>"
      ]
    },
    {
      "cell_type": "markdown",
      "id": "f5955907-b926-4093-acc3-4a2718149297",
      "metadata": {
        "id": "f5955907-b926-4093-acc3-4a2718149297"
      },
      "source": [
        "Name:-Prerak Hardik Thaker\n",
        "Sec:-B\n",
        "Roll No:-47\n",
        "Enroll No:- 202232700131\n",
        "Subject:-Advance Python Programming"
      ]
    },
    {
      "cell_type": "markdown",
      "id": "f81534df-1ba2-4af3-b726-75e0f838e69b",
      "metadata": {
        "id": "f81534df-1ba2-4af3-b726-75e0f838e69b"
      },
      "source": [
        "Q-1 Write a Python Class BankAccount with attributes like account_name ,balance,date_of_opening and customer_name and methods like deposits ,withdraw and check_balance."
      ]
    },
    {
      "cell_type": "code",
      "execution_count": 1,
      "id": "a25c989a-5c44-42e7-8e26-7e1023284cf4",
      "metadata": {
        "colab": {
          "base_uri": "https://localhost:8080/"
        },
        "id": "a25c989a-5c44-42e7-8e26-7e1023284cf4",
        "outputId": "86007313-6a36-4913-af5d-7de586555a59"
      },
      "outputs": [
        {
          "output_type": "stream",
          "name": "stdout",
          "text": [
            "Current balance is 100000.₹\n",
            "Deposited 50000. New balance is 150000₹.\n",
            "Withdrew 20000. New balance is 130000₹.\n",
            "Current balance is 130000.₹\n"
          ]
        }
      ],
      "source": [
        "class BankAccount:\n",
        "    def __init__(self, customer_name, account_name, balance, date_of_opening):\n",
        "        self.customer_name = customer_name\n",
        "        self.account_name = account_name\n",
        "        self.balance = balance\n",
        "        self.date_of_opening = date_of_opening\n",
        "\n",
        "    def deposit(self, amount):\n",
        "        if amount > 0:\n",
        "            self.balance += amount\n",
        "            print(f\"Deposited {amount}. New balance is {self.balance}₹.\")\n",
        "        else:\n",
        "            print(\"Deposit amount must be positive.\")\n",
        "\n",
        "    def withdraw(self, amount):\n",
        "        if amount > 0:\n",
        "            if amount <= self.balance:\n",
        "                self.balance -= amount\n",
        "                print(f\"Withdrew {amount}. New balance is {self.balance}₹.\")\n",
        "            else:\n",
        "                print(\"Insufficient funds.\")\n",
        "        else:\n",
        "            print(\"Withdrawal amount must be positive.\")\n",
        "\n",
        "    def check_balance(self):\n",
        "        print(f\"Current balance is {self.balance}.₹\")\n",
        "\n",
        "account = BankAccount(\"Prerak Thaker\", \"Current\", 100000, \"2024-05-01\")\n",
        "account.check_balance()\n",
        "account.deposit(50000)\n",
        "account.withdraw(20000)\n",
        "account.check_balance()"
      ]
    },
    {
      "cell_type": "markdown",
      "id": "1227755e-4ef1-46b8-a029-a50849064fdd",
      "metadata": {
        "id": "1227755e-4ef1-46b8-a029-a50849064fdd"
      },
      "source": [
        "Q-2 Develop A Python Program to Manage various Shapes (e.g. circle,rectangle, triangle) using polymorphism .Each Should have Methods to Calculate\n",
        "Area and perimeter,demonstratingpolymorphic behaviour."
      ]
    },
    {
      "cell_type": "code",
      "execution_count": null,
      "id": "d7c0ff5b-5f1e-457f-8708-3f1dd0d26180",
      "metadata": {
        "id": "d7c0ff5b-5f1e-457f-8708-3f1dd0d26180",
        "outputId": "77f936e8-ea98-4fad-ffd2-6497f087b067"
      },
      "outputs": [
        {
          "name": "stdout",
          "output_type": "stream",
          "text": [
            "Area: 2827.4333882308138, Perimeter: 188.49555921538757\n",
            "Area: 20, Perimeter: 24\n",
            "Area: 349.9441919792354, Perimeter: 95\n"
          ]
        }
      ],
      "source": [
        "import math\n",
        "\n",
        "class Circle:\n",
        "    def __init__(self, radius):\n",
        "        self.radius = radius\n",
        "\n",
        "    def area(self):\n",
        "        return math.pi * self.radius ** 2\n",
        "\n",
        "    def perimeter(self):\n",
        "        return 2 * math.pi * self.radius\n",
        "\n",
        "class Rectangle:\n",
        "    def __init__(self, length, width):\n",
        "        self.length = length\n",
        "        self.width = width\n",
        "\n",
        "    def area(self):\n",
        "        return self.length * self.width\n",
        "\n",
        "    def perimeter(self):\n",
        "        return 2 * (self.length + self.width)\n",
        "\n",
        "class Triangle:\n",
        "    def __init__(self, side1, side2, side3):\n",
        "        self.side1, self.side2, self.side3 = side1, side2, side3\n",
        "\n",
        "    def area(self):\n",
        "        s = sum((self.side1, self.side2, self.side3)) / 2\n",
        "        return math.sqrt(s * (s - self.side1) * (s - self.side2) * (s - self.side3))\n",
        "\n",
        "    def perimeter(self):\n",
        "        return sum((self.side1, self.side2, self.side3))\n",
        "\n",
        "shapes = [\n",
        "    Circle(30),\n",
        "    Rectangle(10, 2),\n",
        "    Triangle(35, 20, 40)\n",
        "]\n",
        "\n",
        "for shape in shapes:\n",
        "    print(f\"Area: {shape.area()}, Perimeter: {shape.perimeter()}\")\n",
        "\n",
        "#First Answer is Area and perimeter of  circle\n",
        "#Second Answer is Area and perimeter of  Rectangle\n",
        "#Third Answer is Area and perimeter of  Triangle"
      ]
    },
    {
      "cell_type": "markdown",
      "id": "b46b812e-87a1-4798-baff-0b7db2b6f961",
      "metadata": {
        "id": "b46b812e-87a1-4798-baff-0b7db2b6f961"
      },
      "source": [
        "Q-3 Write A python programm to create an EMployee CLass With a method to count number of instances"
      ]
    },
    {
      "cell_type": "code",
      "execution_count": null,
      "id": "ee1a2278-c743-4de0-95ca-a98235099b60",
      "metadata": {
        "id": "ee1a2278-c743-4de0-95ca-a98235099b60",
        "outputId": "9b8ee8c8-f777-47ec-c1d3-40174b361dd7"
      },
      "outputs": [
        {
          "name": "stdout",
          "output_type": "stream",
          "text": [
            "Number of Employee instances: 2\n"
          ]
        }
      ],
      "source": [
        "class Employee:\n",
        "\n",
        "    instance_count = 0\n",
        "\n",
        "    def __init__(self, name, position):\n",
        "        self.name = name\n",
        "        self.position = position\n",
        "        Employee.instance_count += 1\n",
        "\n",
        "    @classmethod\n",
        "    def get_instance_count(cls):\n",
        "        return cls.instance_count\n",
        "\n",
        "\n",
        "emp1 = Employee(\"Alice\", \"Manager\")\n",
        "emp2 = Employee(\"Bob\", \"Developer\")\n",
        "\n",
        "print(f\"Number of Employee instances: {Employee.get_instance_count()}\")"
      ]
    },
    {
      "cell_type": "markdown",
      "id": "f366650b-8bee-4d46-adf2-61cf629643b0",
      "metadata": {
        "id": "f366650b-8bee-4d46-adf2-61cf629643b0"
      },
      "source": [
        "Q-4 Do as Directed\n",
        "   1) Load \"Titanic.csv\"\n",
        "   2) Print The first and Last Ten rows From Data Set\n",
        "   3) Find(Max,Min,count2,25%,50%,75%) of Dataset\n",
        "   4) Find The  number of Females in dataset\n",
        "   5) Find The Number of People Survived or Not Survived"
      ]
    },
    {
      "cell_type": "code",
      "execution_count": null,
      "id": "ee282d95-bc6f-4610-a665-9d156ae1dbcd",
      "metadata": {
        "id": "ee282d95-bc6f-4610-a665-9d156ae1dbcd"
      },
      "outputs": [],
      "source": [
        "# 1) Load \"Titanic.csv\"\n",
        "import pandas as pd\n",
        "tit_dt = pd.read_csv(\"titanic.csv\")"
      ]
    },
    {
      "cell_type": "code",
      "execution_count": null,
      "id": "1e1cb20e-eee2-46eb-b2be-2429069490b6",
      "metadata": {
        "id": "1e1cb20e-eee2-46eb-b2be-2429069490b6",
        "outputId": "2c0791bc-f682-45ee-f5ea-984aae73b59f"
      },
      "outputs": [
        {
          "name": "stdout",
          "output_type": "stream",
          "text": [
            "First 10 Rows:\n",
            "   PassengerId  Survived  Pclass  \\\n",
            "0            1         0       3   \n",
            "1            2         1       1   \n",
            "2            3         1       3   \n",
            "3            4         1       1   \n",
            "4            5         0       3   \n",
            "5            6         0       3   \n",
            "6            7         0       1   \n",
            "7            8         0       3   \n",
            "8            9         1       3   \n",
            "9           10         1       2   \n",
            "\n",
            "                                                Name     Sex   Age  SibSp  \\\n",
            "0                            Braund, Mr. Owen Harris    male  22.0      1   \n",
            "1  Cumings, Mrs. John Bradley (Florence Briggs Th...  female  38.0      1   \n",
            "2                             Heikkinen, Miss. Laina  female  26.0      0   \n",
            "3       Futrelle, Mrs. Jacques Heath (Lily May Peel)  female  35.0      1   \n",
            "4                           Allen, Mr. William Henry    male  35.0      0   \n",
            "5                                   Moran, Mr. James    male   NaN      0   \n",
            "6                            McCarthy, Mr. Timothy J    male  54.0      0   \n",
            "7                     Palsson, Master. Gosta Leonard    male   2.0      3   \n",
            "8  Johnson, Mrs. Oscar W (Elisabeth Vilhelmina Berg)  female  27.0      0   \n",
            "9                Nasser, Mrs. Nicholas (Adele Achem)  female  14.0      1   \n",
            "\n",
            "   Parch            Ticket     Fare Cabin Embarked  \n",
            "0      0         A/5 21171   7.2500   NaN        S  \n",
            "1      0          PC 17599  71.2833   C85        C  \n",
            "2      0  STON/O2. 3101282   7.9250   NaN        S  \n",
            "3      0            113803  53.1000  C123        S  \n",
            "4      0            373450   8.0500   NaN        S  \n",
            "5      0            330877   8.4583   NaN        Q  \n",
            "6      0             17463  51.8625   E46        S  \n",
            "7      1            349909  21.0750   NaN        S  \n",
            "8      2            347742  11.1333   NaN        S  \n",
            "9      0            237736  30.0708   NaN        C  \n",
            "\n",
            "Last 10 Rows:\n",
            "     PassengerId  Survived  Pclass                                      Name  \\\n",
            "881          882         0       3                        Markun, Mr. Johann   \n",
            "882          883         0       3              Dahlberg, Miss. Gerda Ulrika   \n",
            "883          884         0       2             Banfield, Mr. Frederick James   \n",
            "884          885         0       3                    Sutehall, Mr. Henry Jr   \n",
            "885          886         0       3      Rice, Mrs. William (Margaret Norton)   \n",
            "886          887         0       2                     Montvila, Rev. Juozas   \n",
            "887          888         1       1              Graham, Miss. Margaret Edith   \n",
            "888          889         0       3  Johnston, Miss. Catherine Helen \"Carrie\"   \n",
            "889          890         1       1                     Behr, Mr. Karl Howell   \n",
            "890          891         0       3                       Dooley, Mr. Patrick   \n",
            "\n",
            "        Sex   Age  SibSp  Parch            Ticket     Fare Cabin Embarked  \n",
            "881    male  33.0      0      0            349257   7.8958   NaN        S  \n",
            "882  female  22.0      0      0              7552  10.5167   NaN        S  \n",
            "883    male  28.0      0      0  C.A./SOTON 34068  10.5000   NaN        S  \n",
            "884    male  25.0      0      0   SOTON/OQ 392076   7.0500   NaN        S  \n",
            "885  female  39.0      0      5            382652  29.1250   NaN        Q  \n",
            "886    male  27.0      0      0            211536  13.0000   NaN        S  \n",
            "887  female  19.0      0      0            112053  30.0000   B42        S  \n",
            "888  female   NaN      1      2        W./C. 6607  23.4500   NaN        S  \n",
            "889    male  26.0      0      0            111369  30.0000  C148        C  \n",
            "890    male  32.0      0      0            370376   7.7500   NaN        Q  \n"
          ]
        }
      ],
      "source": [
        "#(2) Print The first and Last Ten rows From Data Set\n",
        "first_ten_rows = tit_dt.head(10)\n",
        "last_ten_rows = tit_dt.tail(10)\n",
        "\n",
        "print(\"First 10 Rows:\")\n",
        "print(first_ten_rows)\n",
        "\n",
        "print(\"\\nLast 10 Rows:\")\n",
        "print(last_ten_rows)"
      ]
    },
    {
      "cell_type": "code",
      "execution_count": null,
      "id": "f7844c72-a956-4f04-96aa-8655e90678fe",
      "metadata": {
        "id": "f7844c72-a956-4f04-96aa-8655e90678fe",
        "outputId": "f22d5d69-6930-4730-dfcd-c25b26b09931"
      },
      "outputs": [
        {
          "name": "stdout",
          "output_type": "stream",
          "text": [
            "Dataset Description:\n",
            "       PassengerId    Survived      Pclass         Age       SibSp  \\\n",
            "count   891.000000  891.000000  891.000000  714.000000  891.000000   \n",
            "mean    446.000000    0.383838    2.308642   29.699118    0.523008   \n",
            "std     257.353842    0.486592    0.836071   14.526497    1.102743   \n",
            "min       1.000000    0.000000    1.000000    0.420000    0.000000   \n",
            "25%     223.500000    0.000000    2.000000   20.125000    0.000000   \n",
            "50%     446.000000    0.000000    3.000000   28.000000    0.000000   \n",
            "75%     668.500000    1.000000    3.000000   38.000000    1.000000   \n",
            "max     891.000000    1.000000    3.000000   80.000000    8.000000   \n",
            "\n",
            "            Parch        Fare  \n",
            "count  891.000000  891.000000  \n",
            "mean     0.381594   32.204208  \n",
            "std      0.806057   49.693429  \n",
            "min      0.000000    0.000000  \n",
            "25%      0.000000    7.910400  \n",
            "50%      0.000000   14.454200  \n",
            "75%      0.000000   31.000000  \n",
            "max      6.000000  512.329200  \n"
          ]
        }
      ],
      "source": [
        "#(3) Find(Max,Min,count2,25%,50%,75%) of Dataset\n",
        "dataset_describe = tit_dt.describe()\n",
        "\n",
        "print(\"Dataset Description:\")\n",
        "print(dataset_describe)"
      ]
    },
    {
      "cell_type": "code",
      "execution_count": null,
      "id": "85897092-95a4-4c44-96f6-97e5aa7426d7",
      "metadata": {
        "id": "85897092-95a4-4c44-96f6-97e5aa7426d7",
        "outputId": "cd04b169-3f28-4f50-d5ba-a0d1232a4db1"
      },
      "outputs": [
        {
          "name": "stdout",
          "output_type": "stream",
          "text": [
            "Number of Females in the Dataset: 314\n"
          ]
        }
      ],
      "source": [
        "#(4) Find The  number of Females in dataset\n",
        "num_females = tit_dt[titanic_data['Sex'] == 'female'].shape[0]\n",
        "print(\"Number of Females in the Dataset:\", num_females)"
      ]
    },
    {
      "cell_type": "code",
      "execution_count": null,
      "id": "b208ef8c-d783-4b9e-8626-4fee46f1801d",
      "metadata": {
        "id": "b208ef8c-d783-4b9e-8626-4fee46f1801d",
        "outputId": "f25faccb-0ccc-4806-c86e-2390e1191544"
      },
      "outputs": [
        {
          "name": "stdout",
          "output_type": "stream",
          "text": [
            "Number of People Survived or Not Survived:\n",
            "Survived\n",
            "0    549\n",
            "1    342\n",
            "Name: count, dtype: int64\n"
          ]
        }
      ],
      "source": [
        "#(5) Find The Number of People Survived or Not Survived\n",
        "survival_counts = tit_dt['Survived'].value_counts()\n",
        "print(\"Number of People Survived or Not Survived:\")\n",
        "print(survival_counts)"
      ]
    },
    {
      "cell_type": "markdown",
      "id": "6d0c39c2-2f76-4585-83ec-ec30b200eacb",
      "metadata": {
        "id": "6d0c39c2-2f76-4585-83ec-ec30b200eacb"
      },
      "source": [
        "Q-6 Create a Pie Chart Below based on given information\n",
        "y = np.array([35,25,25,15])\n",
        "Lables = [\"Apples\",\"Bananas\",\"Cherries\",\"Dates\"]"
      ]
    },
    {
      "cell_type": "code",
      "execution_count": null,
      "id": "6cdd29ef-e5da-4e8a-80c6-341aba5f4920",
      "metadata": {
        "id": "6cdd29ef-e5da-4e8a-80c6-341aba5f4920",
        "outputId": "71b6bb74-c8ba-4171-8e38-6b6f170a55cd"
      },
      "outputs": [
        {
          "data": {
            "image/png": "[encoded data removed]",
            "text/plain": [
              "<Figure size 640x480 with 1 Axes>"
            ]
          },
          "metadata": {},
          "output_type": "display_data"
        }
      ],
      "source": [
        "import matplotlib\n",
        "y = np.array([35, 25, 25, 15])\n",
        "mylabels = [\"Apples\", \"Bananas\", \"Cherries\", \"Dates\"]\n",
        "myexplode = [0.1, 0, 0, 0]\n",
        "plt.pie(y, labels = mylabels, explode = myexplode,startangle= 0)\n",
        "plt.show()"
      ]
    },
    {
      "cell_type": "markdown",
      "id": "e70fec94-014f-4049-9794-7c9daf3610cd",
      "metadata": {
        "id": "e70fec94-014f-4049-9794-7c9daf3610cd"
      },
      "source": [
        "Q-7 Load The housing_price.cdv dataset of the dataframe and perform the following tasks:\n",
        "The housing_price dataset contains all the numeric data and median_house_value column is our target vraiable ,so with  the help of Linear\n",
        "Regression  build a model that can predict accurate house prices.Perform following  task and build a model:\n",
        "   1)Load The Housing_price dataset into dataframe\n",
        "   2)Find null value and drop it ,if it is there\n",
        "   3).split x and y into train test data set based on test size as 0.2 and random_state as 10\n",
        "   4) Call the LinearRegression model then fit model using train data\n",
        "   5).Print R2 value , coefficient and intercept\n",
        "   6)Compare actual and predicted values"
      ]
    },
    {
      "cell_type": "code",
      "execution_count": null,
      "id": "910fbcfe-3898-4453-8bd7-2cfc4808e5e5",
      "metadata": {
        "id": "910fbcfe-3898-4453-8bd7-2cfc4808e5e5"
      },
      "outputs": [],
      "source": [
        "import numpy as np\n",
        "import pandas as pd\n",
        "from sklearn.model_selection import train_test_split\n",
        "from sklearn.linear_model import LinearRegression\n",
        "from sklearn.metrics import mean_squared_error\n",
        "from sklearn.metrics import r2_score\n",
        "import statsmodels.api as sm"
      ]
    },
    {
      "cell_type": "code",
      "execution_count": null,
      "id": "56ce3b15-2b15-432e-bf62-18f06d3a8622",
      "metadata": {
        "id": "56ce3b15-2b15-432e-bf62-18f06d3a8622"
      },
      "outputs": [],
      "source": [
        "#(1)Load The Housing_price dataset into dataframe\n",
        "df = pd.read_csv(\"housing_price.csv\")"
      ]
    },
    {
      "cell_type": "code",
      "execution_count": null,
      "id": "fa6e7956-f0fb-482e-90e4-ba6f32de77cf",
      "metadata": {
        "id": "fa6e7956-f0fb-482e-90e4-ba6f32de77cf",
        "outputId": "8b8e003f-4660-4016-be39-17e752857887"
      },
      "outputs": [
        {
          "data": {
            "text/plain": [
              "longitude             0\n",
              "latitude              0\n",
              "housing_median_age    0\n",
              "total_rooms           0\n",
              "total_bedrooms        0\n",
              "population            0\n",
              "households            0\n",
              "median_income         0\n",
              "median_house_value    0\n",
              "dtype: int64"
            ]
          },
          "execution_count": 138,
          "metadata": {},
          "output_type": "execute_result"
        }
      ],
      "source": [
        "#(2)Find null value and drop it ,if it is there\n",
        "df.isna().sum()"
      ]
    },
    {
      "cell_type": "code",
      "execution_count": null,
      "id": "e036e5b2-0285-4865-956e-fe04ebd3d69e",
      "metadata": {
        "id": "e036e5b2-0285-4865-956e-fe04ebd3d69e",
        "outputId": "f53440c3-67e9-43a9-a205-cf5cad3ac536"
      },
      "outputs": [
        {
          "name": "stdout",
          "output_type": "stream",
          "text": [
            "x_train and x_test dataset shape (13600, 8) (3400, 8)\n",
            "y_train and y_test dataset shape (13600,) (3400,)\n"
          ]
        }
      ],
      "source": [
        "#(3).split x and y into train test data set based on test size as 0.2 and random_state as 10\n",
        "x = df.drop(columns = \"median_house_value\").values\n",
        "y = df.median_house_value.values\n",
        "x_train,x_test,y_train,y_test =  train_test_split(x,y,test_size=0.2 ,random_state = 10)\n",
        "print(\"x_train and x_test dataset shape\",x_train.shape,x_test.shape)\n",
        "print(\"y_train and y_test dataset shape\",y_train.shape,y_test.shape)"
      ]
    },
    {
      "cell_type": "code",
      "execution_count": null,
      "id": "430eb5ea-db5d-48d0-b6fa-7da87c77058b",
      "metadata": {
        "id": "430eb5ea-db5d-48d0-b6fa-7da87c77058b",
        "outputId": "eb15a26d-22d1-4489-b718-cc8cd69e52b4"
      },
      "outputs": [
        {
          "data": {
            "text/html": [
              "<style>#sk-container-id-6 {color: black;background-color: white;}#sk-container-id-6 pre{padding: 0;}#sk-container-id-6 div.sk-toggleable {background-color: white;}#sk-container-id-6 label.sk-toggleable__label {cursor: pointer;display: block;width: 100%;margin-bottom: 0;padding: 0.3em;box-sizing: border-box;text-align: center;}#sk-container-id-6 label.sk-toggleable__label-arrow:before {content: \"▸\";float: left;margin-right: 0.25em;color: #696969;}#sk-container-id-6 label.sk-toggleable__label-arrow:hover:before {color: black;}#sk-container-id-6 div.sk-estimator:hover label.sk-toggleable__label-arrow:before {color: black;}#sk-container-id-6 div.sk-toggleable__content {max-height: 0;max-width: 0;overflow: hidden;text-align: left;background-color: #f0f8ff;}#sk-container-id-6 div.sk-toggleable__content pre {margin: 0.2em;color: black;border-radius: 0.25em;background-color: #f0f8ff;}#sk-container-id-6 input.sk-toggleable__control:checked~div.sk-toggleable__content {max-height: 200px;max-width: 100%;overflow: auto;}#sk-container-id-6 input.sk-toggleable__control:checked~label.sk-toggleable__label-arrow:before {content: \"▾\";}#sk-container-id-6 div.sk-estimator input.sk-toggleable__control:checked~label.sk-toggleable__label {background-color: #d4ebff;}#sk-container-id-6 div.sk-label input.sk-toggleable__control:checked~label.sk-toggleable__label {background-color: #d4ebff;}#sk-container-id-6 input.sk-hidden--visually {border: 0;clip: rect(1px 1px 1px 1px);clip: rect(1px, 1px, 1px, 1px);height: 1px;margin: -1px;overflow: hidden;padding: 0;position: absolute;width: 1px;}#sk-container-id-6 div.sk-estimator {font-family: monospace;background-color: #f0f8ff;border: 1px dotted black;border-radius: 0.25em;box-sizing: border-box;margin-bottom: 0.5em;}#sk-container-id-6 div.sk-estimator:hover {background-color: #d4ebff;}#sk-container-id-6 div.sk-parallel-item::after {content: \"\";width: 100%;border-bottom: 1px solid gray;flex-grow: 1;}#sk-container-id-6 div.sk-label:hover label.sk-toggleable__label {background-color: #d4ebff;}#sk-container-id-6 div.sk-serial::before {content: \"\";position: absolute;border-left: 1px solid gray;box-sizing: border-box;top: 0;bottom: 0;left: 50%;z-index: 0;}#sk-container-id-6 div.sk-serial {display: flex;flex-direction: column;align-items: center;background-color: white;padding-right: 0.2em;padding-left: 0.2em;position: relative;}#sk-container-id-6 div.sk-item {position: relative;z-index: 1;}#sk-container-id-6 div.sk-parallel {display: flex;align-items: stretch;justify-content: center;background-color: white;position: relative;}#sk-container-id-6 div.sk-item::before, #sk-container-id-6 div.sk-parallel-item::before {content: \"\";position: absolute;border-left: 1px solid gray;box-sizing: border-box;top: 0;bottom: 0;left: 50%;z-index: -1;}#sk-container-id-6 div.sk-parallel-item {display: flex;flex-direction: column;z-index: 1;position: relative;background-color: white;}#sk-container-id-6 div.sk-parallel-item:first-child::after {align-self: flex-end;width: 50%;}#sk-container-id-6 div.sk-parallel-item:last-child::after {align-self: flex-start;width: 50%;}#sk-container-id-6 div.sk-parallel-item:only-child::after {width: 0;}#sk-container-id-6 div.sk-dashed-wrapped {border: 1px dashed gray;margin: 0 0.4em 0.5em 0.4em;box-sizing: border-box;padding-bottom: 0.4em;background-color: white;}#sk-container-id-6 div.sk-label label {font-family: monospace;font-weight: bold;display: inline-block;line-height: 1.2em;}#sk-container-id-6 div.sk-label-container {text-align: center;}#sk-container-id-6 div.sk-container {/* jupyter's `normalize.less` sets `[hidden] { display: none; }` but bootstrap.min.css set `[hidden] { display: none !important; }` so we also need the `!important` here to be able to override the default hidden behavior on the sphinx rendered scikit-learn.org. See: https://github.com/scikit-learn/scikit-learn/issues/21755 */display: inline-block !important;position: relative;}#sk-container-id-6 div.sk-text-repr-fallback {display: none;}</style><div id=\"sk-container-id-6\" class=\"sk-top-container\"><div class=\"sk-text-repr-fallback\"><pre>LinearRegression()</pre><b>In a Jupyter environment, please rerun this cell to show the HTML representation or trust the notebook. <br />On GitHub, the HTML representation is unable to render, please try loading this page with nbviewer.org.</b></div><div class=\"sk-container\" hidden><div class=\"sk-item\"><div class=\"sk-estimator sk-toggleable\"><input class=\"sk-toggleable__control sk-hidden--visually\" id=\"sk-estimator-id-6\" type=\"checkbox\" checked><label for=\"sk-estimator-id-6\" class=\"sk-toggleable__label sk-toggleable__label-arrow\">LinearRegression</label><div class=\"sk-toggleable__content\"><pre>LinearRegression()</pre></div></div></div></div></div>"
            ],
            "text/plain": [
              "LinearRegression()"
            ]
          },
          "execution_count": 140,
          "metadata": {},
          "output_type": "execute_result"
        }
      ],
      "source": [
        "#(4) Call the LinearRegression model then fit model using train data\n",
        "regressor = LinearRegression()\n",
        "regressor.fit(x_train,y_train)"
      ]
    },
    {
      "cell_type": "code",
      "execution_count": null,
      "id": "17b76b88-515c-4202-a169-565369524dec",
      "metadata": {
        "id": "17b76b88-515c-4202-a169-565369524dec",
        "outputId": "4dd4ac55-be85-4737-b7d2-a3ae7c5f1cd9"
      },
      "outputs": [
        {
          "name": "stdout",
          "output_type": "stream",
          "text": [
            "R2 value 0.6484403017760343\n",
            "\n",
            "coeeficent:\n",
            " [-4.34225673e+04 -4.34584915e+04  1.15417922e+03 -8.34683693e+00\n",
            "  1.14234465e+02 -3.87425498e+01  5.04252279e+01  4.02554220e+04]\n",
            "\n",
            "intercept -3635200.010898895\n"
          ]
        }
      ],
      "source": [
        "#(5).Print R2 value , coefficient and intercept\n",
        "regressor.score(x_test,y_test)\n",
        "print(\"R2 value\",regressor.score(x_test,y_test))\n",
        "print(\"\\ncoeeficent:\\n\", regressor.coef_)\n",
        "print(\"\\nintercept\",regressor.intercept_)"
      ]
    },
    {
      "cell_type": "code",
      "execution_count": null,
      "id": "18c22b03-8985-4858-852f-d930a98a8cd6",
      "metadata": {
        "id": "18c22b03-8985-4858-852f-d930a98a8cd6",
        "outputId": "c1d1eb36-55ca-47ed-e31b-0dfaf64be9d2"
      },
      "outputs": [
        {
          "data": {
            "text/html": [
              "<div>\n",
              "<style scoped>\n",
              "    .dataframe tbody tr th:only-of-type {\n",
              "        vertical-align: middle;\n",
              "    }\n",
              "\n",
              "    .dataframe tbody tr th {\n",
              "        vertical-align: top;\n",
              "    }\n",
              "\n",
              "    .dataframe thead th {\n",
              "        text-align: right;\n",
              "    }\n",
              "</style>\n",
              "<table border=\"1\" class=\"dataframe\">\n",
              "  <thead>\n",
              "    <tr style=\"text-align: right;\">\n",
              "      <th></th>\n",
              "      <th>Actual</th>\n",
              "      <th>Predicted</th>\n",
              "    </tr>\n",
              "  </thead>\n",
              "  <tbody>\n",
              "    <tr>\n",
              "      <th>0</th>\n",
              "      <td>96100</td>\n",
              "      <td>-8475.675202</td>\n",
              "    </tr>\n",
              "    <tr>\n",
              "      <th>1</th>\n",
              "      <td>500001</td>\n",
              "      <td>490876.394233</td>\n",
              "    </tr>\n",
              "    <tr>\n",
              "      <th>2</th>\n",
              "      <td>177200</td>\n",
              "      <td>112662.107990</td>\n",
              "    </tr>\n",
              "    <tr>\n",
              "      <th>3</th>\n",
              "      <td>55000</td>\n",
              "      <td>218093.753334</td>\n",
              "    </tr>\n",
              "    <tr>\n",
              "      <th>4</th>\n",
              "      <td>220800</td>\n",
              "      <td>207600.925885</td>\n",
              "    </tr>\n",
              "    <tr>\n",
              "      <th>5</th>\n",
              "      <td>158300</td>\n",
              "      <td>121540.170888</td>\n",
              "    </tr>\n",
              "    <tr>\n",
              "      <th>6</th>\n",
              "      <td>37900</td>\n",
              "      <td>180602.126583</td>\n",
              "    </tr>\n",
              "    <tr>\n",
              "      <th>7</th>\n",
              "      <td>115600</td>\n",
              "      <td>104694.108104</td>\n",
              "    </tr>\n",
              "    <tr>\n",
              "      <th>8</th>\n",
              "      <td>359700</td>\n",
              "      <td>310765.123759</td>\n",
              "    </tr>\n",
              "    <tr>\n",
              "      <th>9</th>\n",
              "      <td>203300</td>\n",
              "      <td>265864.990208</td>\n",
              "    </tr>\n",
              "  </tbody>\n",
              "</table>\n",
              "</div>"
            ],
            "text/plain": [
              "   Actual      Predicted\n",
              "0   96100   -8475.675202\n",
              "1  500001  490876.394233\n",
              "2  177200  112662.107990\n",
              "3   55000  218093.753334\n",
              "4  220800  207600.925885\n",
              "5  158300  121540.170888\n",
              "6   37900  180602.126583\n",
              "7  115600  104694.108104\n",
              "8  359700  310765.123759\n",
              "9  203300  265864.990208"
            ]
          },
          "execution_count": 142,
          "metadata": {},
          "output_type": "execute_result"
        }
      ],
      "source": [
        "#(6)Compare actual and predicted values\n",
        "y_pred = regressor.predict(x_test)\n",
        "pred = pd.DataFrame({'Actual': y_test ,'Predicted':y_pred})\n",
        "df1 = pred.head(10)\n",
        "df1"
      ]
    },
    {
      "cell_type": "markdown",
      "id": "42f9c57a-3f8a-42d7-9bf2-01f8a55602f2",
      "metadata": {
        "id": "42f9c57a-3f8a-42d7-9bf2-01f8a55602f2"
      },
      "source": [
        "Q-8  You Are Given a categorical dataset - \"Heart_Disease.csv\" Loadf the dataset into a data frame .\n",
        "    Considering the \"TenYearCHD\" column as the target variable ,perform the following tasks.\n",
        "    1) Explore the  \"Heart_Dieases.csv\" dataset ,identify all null values and fill them with mean value of their\n",
        "    respective columns\n",
        "    2).Split the data into test and train partsusing  train_test_split() function in 80:20 ratio (*0% train,20% test).\n",
        "    3).Perform Scaling of numeric data using StandardScaler() function\n",
        "    4) Build a Logistic Regression Model suing test data set and test model using the test dataset.\n",
        "    5).Print Classification Report of the model"
      ]
    },
    {
      "cell_type": "code",
      "execution_count": null,
      "id": "3b93377d-b148-4ca1-8276-02dff2d606a9",
      "metadata": {
        "id": "3b93377d-b148-4ca1-8276-02dff2d606a9"
      },
      "outputs": [],
      "source": [
        "import numpy as np\n",
        "import pandas as pd\n",
        "import matplotlib.pyplot as plt\n",
        "import seaborn as sns\n",
        "from sklearn.model_selection import train_test_split\n",
        "from sklearn.metrics import confusion_matrix , classification_report, accuracy_score\n",
        "from sklearn.metrics import roc_curve ,auc\n",
        "from sklearn.linear_model import LogisticRegression\n",
        "from sklearn.preprocessing import StandardScaler\n",
        "import sys"
      ]
    },
    {
      "cell_type": "code",
      "execution_count": null,
      "id": "3d3e4f64-2245-49f9-b39b-465a13c5b6ba",
      "metadata": {
        "id": "3d3e4f64-2245-49f9-b39b-465a13c5b6ba"
      },
      "outputs": [],
      "source": [
        "#(1) Explore the  \"Heart_Dieases.csv\" dataset ,identify all null values and fill them with mean value of their respective columns\n",
        "heart_df=pd.read_csv(\"Heart_Disease.csv\")"
      ]
    },
    {
      "cell_type": "code",
      "execution_count": null,
      "id": "6016a167-d13f-42dd-ac46-37620e9bb5df",
      "metadata": {
        "id": "6016a167-d13f-42dd-ac46-37620e9bb5df",
        "outputId": "fb3255f7-8b44-41ec-d115-19bfa13b352d"
      },
      "outputs": [
        {
          "name": "stdout",
          "output_type": "stream",
          "text": [
            "<class 'pandas.core.frame.DataFrame'>\n",
            "RangeIndex: 4238 entries, 0 to 4237\n",
            "Data columns (total 16 columns):\n",
            " #   Column           Non-Null Count  Dtype  \n",
            "---  ------           --------------  -----  \n",
            " 0   male             4238 non-null   int64  \n",
            " 1   age              4238 non-null   int64  \n",
            " 2   education        4133 non-null   float64\n",
            " 3   currentSmoker    4238 non-null   int64  \n",
            " 4   cigsPerDay       4209 non-null   float64\n",
            " 5   BPMeds           4185 non-null   float64\n",
            " 6   prevalentStroke  4238 non-null   int64  \n",
            " 7   prevalentHyp     4238 non-null   int64  \n",
            " 8   diabetes         4238 non-null   int64  \n",
            " 9   totChol          4188 non-null   float64\n",
            " 10  sysBP            4238 non-null   float64\n",
            " 11  diaBP            4238 non-null   float64\n",
            " 12  BMI              4219 non-null   float64\n",
            " 13  heartRate        4237 non-null   float64\n",
            " 14  glucose          3850 non-null   float64\n",
            " 15  TenYearCHD       4238 non-null   int64  \n",
            "dtypes: float64(9), int64(7)\n",
            "memory usage: 529.9 KB\n"
          ]
        }
      ],
      "source": [
        " heart_df.info()"
      ]
    },
    {
      "cell_type": "code",
      "execution_count": null,
      "id": "0e9628cc-a1ae-4248-bbca-a8aec85f5fd3",
      "metadata": {
        "id": "0e9628cc-a1ae-4248-bbca-a8aec85f5fd3",
        "outputId": "99f9b58c-f56a-4e0e-f16d-377ee88cc7a2"
      },
      "outputs": [
        {
          "data": {
            "text/plain": [
              "male                 0\n",
              "age                  0\n",
              "education          105\n",
              "currentSmoker        0\n",
              "cigsPerDay          29\n",
              "BPMeds              53\n",
              "prevalentStroke      0\n",
              "prevalentHyp         0\n",
              "diabetes             0\n",
              "totChol             50\n",
              "sysBP                0\n",
              "diaBP                0\n",
              "BMI                 19\n",
              "heartRate            1\n",
              "glucose            388\n",
              "TenYearCHD           0\n",
              "dtype: int64"
            ]
          },
          "execution_count": 146,
          "metadata": {},
          "output_type": "execute_result"
        }
      ],
      "source": [
        "heart_df.isnull().sum()"
      ]
    },
    {
      "cell_type": "code",
      "execution_count": null,
      "id": "845fab7d-417c-4782-9315-67abe88eb948",
      "metadata": {
        "id": "845fab7d-417c-4782-9315-67abe88eb948"
      },
      "outputs": [],
      "source": [
        "heart_df = heart_df.apply(lambda x: x.fillna(x.mean()),axis=0)"
      ]
    },
    {
      "cell_type": "code",
      "execution_count": null,
      "id": "a1db71dd-7e08-4c7a-9019-0afd6fe4a904",
      "metadata": {
        "id": "a1db71dd-7e08-4c7a-9019-0afd6fe4a904",
        "outputId": "bb050410-2f3d-41a8-ff61-b3a67106204b"
      },
      "outputs": [
        {
          "data": {
            "text/plain": [
              "male               0\n",
              "age                0\n",
              "education          0\n",
              "currentSmoker      0\n",
              "cigsPerDay         0\n",
              "BPMeds             0\n",
              "prevalentStroke    0\n",
              "prevalentHyp       0\n",
              "diabetes           0\n",
              "totChol            0\n",
              "sysBP              0\n",
              "diaBP              0\n",
              "BMI                0\n",
              "heartRate          0\n",
              "glucose            0\n",
              "TenYearCHD         0\n",
              "dtype: int64"
            ]
          },
          "execution_count": 148,
          "metadata": {},
          "output_type": "execute_result"
        }
      ],
      "source": [
        "heart_df.isnull().sum()"
      ]
    },
    {
      "cell_type": "code",
      "execution_count": null,
      "id": "b08e48dd-b35a-4922-a0b0-5acf18aabc2c",
      "metadata": {
        "id": "b08e48dd-b35a-4922-a0b0-5acf18aabc2c",
        "outputId": "d7e22e40-2c0c-4ae0-c2d6-d2eec5b29884"
      },
      "outputs": [
        {
          "name": "stdout",
          "output_type": "stream",
          "text": [
            "Column in X: Index(['male', 'age', 'education', 'currentSmoker', 'cigsPerDay', 'BPMeds',\n",
            "       'prevalentStroke', 'prevalentHyp', 'diabetes', 'totChol', 'sysBP',\n",
            "       'diaBP', 'BMI', 'heartRate', 'glucose'],\n",
            "      dtype='object')\n",
            "y: 0       0\n",
            "1       0\n",
            "2       0\n",
            "3       1\n",
            "4       0\n",
            "       ..\n",
            "4233    1\n",
            "4234    0\n",
            "4235    0\n",
            "4236    0\n",
            "4237    0\n",
            "Name: TenYearCHD, Length: 4238, dtype: int64\n",
            "Shape of X: (4238, 15)\n",
            "Shape of y: 4238\n",
            "After Splitting The Data:\n",
            "Size of input train data is: 433952\n",
            "Size of input test data is: 108576\n",
            "Size of output train data is: 54272\n",
            "Size of output test data is: 13600\n"
          ]
        }
      ],
      "source": [
        "#(2).Split the data into test and train partsusing  train_test_split() function in 80:20 ratio (*0% train,20% test).\n",
        "##Defining vraiable x,y\n",
        "x = heart_df.drop(\"TenYearCHD\",axis=1)\n",
        "y=heart_df[\"TenYearCHD\"]\n",
        "print(\"Column in X:\",x.columns)\n",
        "print(\"y:\",y)\n",
        "print(\"Shape of X:\",x.shape)\n",
        "print(\"Shape of y:\",y.shape[0])\n",
        "x_train ,x_test ,y_train, y_test = train_test_split(x, y, test_size = 0.20 ,random_state = 0)\n",
        "print(\"After Splitting The Data:\")\n",
        "print(\"Size of input train data is:\",sys.getsizeof(x_train))\n",
        "print(\"Size of input test data is:\",sys.getsizeof(x_test))\n",
        "print(\"Size of output train data is:\",sys.getsizeof(y_train))\n",
        "print(\"Size of output test data is:\",sys.getsizeof(y_test))"
      ]
    },
    {
      "cell_type": "code",
      "execution_count": null,
      "id": "321d46bf-809b-4da3-a619-97107528c417",
      "metadata": {
        "id": "321d46bf-809b-4da3-a619-97107528c417",
        "outputId": "c436f6b5-eb0f-48b1-de5a-4a448f313c71"
      },
      "outputs": [
        {
          "data": {
            "text/html": [
              "<div>\n",
              "<style scoped>\n",
              "    .dataframe tbody tr th:only-of-type {\n",
              "        vertical-align: middle;\n",
              "    }\n",
              "\n",
              "    .dataframe tbody tr th {\n",
              "        vertical-align: top;\n",
              "    }\n",
              "\n",
              "    .dataframe thead th {\n",
              "        text-align: right;\n",
              "    }\n",
              "</style>\n",
              "<table border=\"1\" class=\"dataframe\">\n",
              "  <thead>\n",
              "    <tr style=\"text-align: right;\">\n",
              "      <th></th>\n",
              "      <th>male</th>\n",
              "      <th>age</th>\n",
              "      <th>education</th>\n",
              "      <th>currentSmoker</th>\n",
              "      <th>cigsPerDay</th>\n",
              "      <th>BPMeds</th>\n",
              "      <th>prevalentStroke</th>\n",
              "      <th>prevalentHyp</th>\n",
              "      <th>diabetes</th>\n",
              "      <th>totChol</th>\n",
              "      <th>sysBP</th>\n",
              "      <th>diaBP</th>\n",
              "      <th>BMI</th>\n",
              "      <th>heartRate</th>\n",
              "      <th>glucose</th>\n",
              "    </tr>\n",
              "  </thead>\n",
              "  <tbody>\n",
              "    <tr>\n",
              "      <th>0</th>\n",
              "      <td>1.159482</td>\n",
              "      <td>1.571974</td>\n",
              "      <td>-0.975656</td>\n",
              "      <td>0.997643</td>\n",
              "      <td>0.077349</td>\n",
              "      <td>-0.172960</td>\n",
              "      <td>-0.08265</td>\n",
              "      <td>-0.668478</td>\n",
              "      <td>6.055301</td>\n",
              "      <td>0.065262</td>\n",
              "      <td>0.634003</td>\n",
              "      <td>0.104084</td>\n",
              "      <td>1.142695</td>\n",
              "      <td>-0.074013</td>\n",
              "      <td>1.665644</td>\n",
              "    </tr>\n",
              "    <tr>\n",
              "      <th>1</th>\n",
              "      <td>1.159482</td>\n",
              "      <td>0.287795</td>\n",
              "      <td>-0.975656</td>\n",
              "      <td>0.997643</td>\n",
              "      <td>1.757177</td>\n",
              "      <td>-0.172960</td>\n",
              "      <td>-0.08265</td>\n",
              "      <td>-0.668478</td>\n",
              "      <td>-0.165145</td>\n",
              "      <td>-0.323425</td>\n",
              "      <td>0.039328</td>\n",
              "      <td>-0.063897</td>\n",
              "      <td>-1.130659</td>\n",
              "      <td>-0.816362</td>\n",
              "      <td>-0.221900</td>\n",
              "    </tr>\n",
              "    <tr>\n",
              "      <th>2</th>\n",
              "      <td>1.159482</td>\n",
              "      <td>-1.346614</td>\n",
              "      <td>0.009529</td>\n",
              "      <td>0.997643</td>\n",
              "      <td>0.917263</td>\n",
              "      <td>-0.172960</td>\n",
              "      <td>-0.08265</td>\n",
              "      <td>-0.668478</td>\n",
              "      <td>-0.165145</td>\n",
              "      <td>0.956954</td>\n",
              "      <td>-0.372370</td>\n",
              "      <td>0.356054</td>\n",
              "      <td>0.213797</td>\n",
              "      <td>0.008470</td>\n",
              "      <td>-0.309693</td>\n",
              "    </tr>\n",
              "    <tr>\n",
              "      <th>3</th>\n",
              "      <td>-0.862454</td>\n",
              "      <td>-0.062435</td>\n",
              "      <td>0.994714</td>\n",
              "      <td>-1.002363</td>\n",
              "      <td>-0.762565</td>\n",
              "      <td>5.856544</td>\n",
              "      <td>-0.08265</td>\n",
              "      <td>1.495935</td>\n",
              "      <td>-0.165145</td>\n",
              "      <td>1.437095</td>\n",
              "      <td>-0.052161</td>\n",
              "      <td>0.440045</td>\n",
              "      <td>0.255353</td>\n",
              "      <td>-0.486429</td>\n",
              "      <td>-0.397486</td>\n",
              "    </tr>\n",
              "    <tr>\n",
              "      <th>4</th>\n",
              "      <td>-0.862454</td>\n",
              "      <td>-1.113127</td>\n",
              "      <td>0.009529</td>\n",
              "      <td>-1.002363</td>\n",
              "      <td>-0.762565</td>\n",
              "      <td>-0.172960</td>\n",
              "      <td>-0.08265</td>\n",
              "      <td>-0.668478</td>\n",
              "      <td>-0.165145</td>\n",
              "      <td>-0.574927</td>\n",
              "      <td>-1.012789</td>\n",
              "      <td>-1.071780</td>\n",
              "      <td>-0.690655</td>\n",
              "      <td>0.750819</td>\n",
              "      <td>0.129271</td>\n",
              "    </tr>\n",
              "    <tr>\n",
              "      <th>...</th>\n",
              "      <td>...</td>\n",
              "      <td>...</td>\n",
              "      <td>...</td>\n",
              "      <td>...</td>\n",
              "      <td>...</td>\n",
              "      <td>...</td>\n",
              "      <td>...</td>\n",
              "      <td>...</td>\n",
              "      <td>...</td>\n",
              "      <td>...</td>\n",
              "      <td>...</td>\n",
              "      <td>...</td>\n",
              "      <td>...</td>\n",
              "      <td>...</td>\n",
              "      <td>...</td>\n",
              "    </tr>\n",
              "    <tr>\n",
              "      <th>3385</th>\n",
              "      <td>-0.862454</td>\n",
              "      <td>-0.646153</td>\n",
              "      <td>0.009529</td>\n",
              "      <td>-1.002363</td>\n",
              "      <td>-0.762565</td>\n",
              "      <td>-0.172960</td>\n",
              "      <td>-0.08265</td>\n",
              "      <td>1.495935</td>\n",
              "      <td>-0.165145</td>\n",
              "      <td>-1.146525</td>\n",
              "      <td>-0.463858</td>\n",
              "      <td>0.020093</td>\n",
              "      <td>1.123139</td>\n",
              "      <td>0.750819</td>\n",
              "      <td>-0.309693</td>\n",
              "    </tr>\n",
              "    <tr>\n",
              "      <th>3386</th>\n",
              "      <td>-0.862454</td>\n",
              "      <td>0.171052</td>\n",
              "      <td>-0.975656</td>\n",
              "      <td>0.997643</td>\n",
              "      <td>-0.594582</td>\n",
              "      <td>-0.172960</td>\n",
              "      <td>-0.08265</td>\n",
              "      <td>-0.668478</td>\n",
              "      <td>-0.165145</td>\n",
              "      <td>0.545403</td>\n",
              "      <td>-0.235137</td>\n",
              "      <td>-0.147887</td>\n",
              "      <td>-1.360439</td>\n",
              "      <td>-0.074013</td>\n",
              "      <td>0.612131</td>\n",
              "    </tr>\n",
              "    <tr>\n",
              "      <th>3387</th>\n",
              "      <td>1.159482</td>\n",
              "      <td>-1.229871</td>\n",
              "      <td>0.994714</td>\n",
              "      <td>0.997643</td>\n",
              "      <td>0.917263</td>\n",
              "      <td>-0.172960</td>\n",
              "      <td>-0.08265</td>\n",
              "      <td>-0.668478</td>\n",
              "      <td>-0.165145</td>\n",
              "      <td>-2.038217</td>\n",
              "      <td>-1.424487</td>\n",
              "      <td>-1.743702</td>\n",
              "      <td>-0.326430</td>\n",
              "      <td>-0.486429</td>\n",
              "      <td>-0.046315</td>\n",
              "    </tr>\n",
              "    <tr>\n",
              "      <th>3388</th>\n",
              "      <td>-0.862454</td>\n",
              "      <td>0.871513</td>\n",
              "      <td>-0.975656</td>\n",
              "      <td>-1.002363</td>\n",
              "      <td>-0.762565</td>\n",
              "      <td>-0.172960</td>\n",
              "      <td>-0.08265</td>\n",
              "      <td>1.495935</td>\n",
              "      <td>-0.165145</td>\n",
              "      <td>3.311935</td>\n",
              "      <td>0.039328</td>\n",
              "      <td>-0.483848</td>\n",
              "      <td>-0.375319</td>\n",
              "      <td>-0.074013</td>\n",
              "      <td>-0.046315</td>\n",
              "    </tr>\n",
              "    <tr>\n",
              "      <th>3389</th>\n",
              "      <td>-0.862454</td>\n",
              "      <td>-1.113127</td>\n",
              "      <td>0.009529</td>\n",
              "      <td>0.997643</td>\n",
              "      <td>0.497306</td>\n",
              "      <td>-0.172960</td>\n",
              "      <td>-0.08265</td>\n",
              "      <td>1.495935</td>\n",
              "      <td>-0.165145</td>\n",
              "      <td>-0.117650</td>\n",
              "      <td>0.359537</td>\n",
              "      <td>0.776006</td>\n",
              "      <td>0.184464</td>\n",
              "      <td>-0.074013</td>\n",
              "      <td>-0.397486</td>\n",
              "    </tr>\n",
              "  </tbody>\n",
              "</table>\n",
              "<p>3390 rows × 15 columns</p>\n",
              "</div>"
            ],
            "text/plain": [
              "          male       age  education  currentSmoker  cigsPerDay    BPMeds  \\\n",
              "0     1.159482  1.571974  -0.975656       0.997643    0.077349 -0.172960   \n",
              "1     1.159482  0.287795  -0.975656       0.997643    1.757177 -0.172960   \n",
              "2     1.159482 -1.346614   0.009529       0.997643    0.917263 -0.172960   \n",
              "3    -0.862454 -0.062435   0.994714      -1.002363   -0.762565  5.856544   \n",
              "4    -0.862454 -1.113127   0.009529      -1.002363   -0.762565 -0.172960   \n",
              "...        ...       ...        ...            ...         ...       ...   \n",
              "3385 -0.862454 -0.646153   0.009529      -1.002363   -0.762565 -0.172960   \n",
              "3386 -0.862454  0.171052  -0.975656       0.997643   -0.594582 -0.172960   \n",
              "3387  1.159482 -1.229871   0.994714       0.997643    0.917263 -0.172960   \n",
              "3388 -0.862454  0.871513  -0.975656      -1.002363   -0.762565 -0.172960   \n",
              "3389 -0.862454 -1.113127   0.009529       0.997643    0.497306 -0.172960   \n",
              "\n",
              "      prevalentStroke  prevalentHyp  diabetes   totChol     sysBP     diaBP  \\\n",
              "0            -0.08265     -0.668478  6.055301  0.065262  0.634003  0.104084   \n",
              "1            -0.08265     -0.668478 -0.165145 -0.323425  0.039328 -0.063897   \n",
              "2            -0.08265     -0.668478 -0.165145  0.956954 -0.372370  0.356054   \n",
              "3            -0.08265      1.495935 -0.165145  1.437095 -0.052161  0.440045   \n",
              "4            -0.08265     -0.668478 -0.165145 -0.574927 -1.012789 -1.071780   \n",
              "...               ...           ...       ...       ...       ...       ...   \n",
              "3385         -0.08265      1.495935 -0.165145 -1.146525 -0.463858  0.020093   \n",
              "3386         -0.08265     -0.668478 -0.165145  0.545403 -0.235137 -0.147887   \n",
              "3387         -0.08265     -0.668478 -0.165145 -2.038217 -1.424487 -1.743702   \n",
              "3388         -0.08265      1.495935 -0.165145  3.311935  0.039328 -0.483848   \n",
              "3389         -0.08265      1.495935 -0.165145 -0.117650  0.359537  0.776006   \n",
              "\n",
              "           BMI  heartRate   glucose  \n",
              "0     1.142695  -0.074013  1.665644  \n",
              "1    -1.130659  -0.816362 -0.221900  \n",
              "2     0.213797   0.008470 -0.309693  \n",
              "3     0.255353  -0.486429 -0.397486  \n",
              "4    -0.690655   0.750819  0.129271  \n",
              "...        ...        ...       ...  \n",
              "3385  1.123139   0.750819 -0.309693  \n",
              "3386 -1.360439  -0.074013  0.612131  \n",
              "3387 -0.326430  -0.486429 -0.046315  \n",
              "3388 -0.375319  -0.074013 -0.046315  \n",
              "3389  0.184464  -0.074013 -0.397486  \n",
              "\n",
              "[3390 rows x 15 columns]"
            ]
          },
          "execution_count": 150,
          "metadata": {},
          "output_type": "execute_result"
        }
      ],
      "source": [
        "#(3).Perform Scaling of numeric data using StandardScaler() function\n",
        "sc = StandardScaler()\n",
        "x_train = sc.fit_transform(x_train)\n",
        "x_test = sc.transform(x_test)\n",
        "x_train =pd.DataFrame(x_train,columns=x.columns)\n",
        "x_test = pd.DataFrame(x_test,columns=x.columns)\n",
        "x_train"
      ]
    },
    {
      "cell_type": "code",
      "execution_count": null,
      "id": "8fb49667-ceb5-459e-85c4-7b2450097cb7",
      "metadata": {
        "id": "8fb49667-ceb5-459e-85c4-7b2450097cb7",
        "outputId": "afb01097-3795-4722-cca3-007e0c23ab95"
      },
      "outputs": [
        {
          "data": {
            "text/html": [
              "<style>#sk-container-id-7 {color: black;background-color: white;}#sk-container-id-7 pre{padding: 0;}#sk-container-id-7 div.sk-toggleable {background-color: white;}#sk-container-id-7 label.sk-toggleable__label {cursor: pointer;display: block;width: 100%;margin-bottom: 0;padding: 0.3em;box-sizing: border-box;text-align: center;}#sk-container-id-7 label.sk-toggleable__label-arrow:before {content: \"▸\";float: left;margin-right: 0.25em;color: #696969;}#sk-container-id-7 label.sk-toggleable__label-arrow:hover:before {color: black;}#sk-container-id-7 div.sk-estimator:hover label.sk-toggleable__label-arrow:before {color: black;}#sk-container-id-7 div.sk-toggleable__content {max-height: 0;max-width: 0;overflow: hidden;text-align: left;background-color: #f0f8ff;}#sk-container-id-7 div.sk-toggleable__content pre {margin: 0.2em;color: black;border-radius: 0.25em;background-color: #f0f8ff;}#sk-container-id-7 input.sk-toggleable__control:checked~div.sk-toggleable__content {max-height: 200px;max-width: 100%;overflow: auto;}#sk-container-id-7 input.sk-toggleable__control:checked~label.sk-toggleable__label-arrow:before {content: \"▾\";}#sk-container-id-7 div.sk-estimator input.sk-toggleable__control:checked~label.sk-toggleable__label {background-color: #d4ebff;}#sk-container-id-7 div.sk-label input.sk-toggleable__control:checked~label.sk-toggleable__label {background-color: #d4ebff;}#sk-container-id-7 input.sk-hidden--visually {border: 0;clip: rect(1px 1px 1px 1px);clip: rect(1px, 1px, 1px, 1px);height: 1px;margin: -1px;overflow: hidden;padding: 0;position: absolute;width: 1px;}#sk-container-id-7 div.sk-estimator {font-family: monospace;background-color: #f0f8ff;border: 1px dotted black;border-radius: 0.25em;box-sizing: border-box;margin-bottom: 0.5em;}#sk-container-id-7 div.sk-estimator:hover {background-color: #d4ebff;}#sk-container-id-7 div.sk-parallel-item::after {content: \"\";width: 100%;border-bottom: 1px solid gray;flex-grow: 1;}#sk-container-id-7 div.sk-label:hover label.sk-toggleable__label {background-color: #d4ebff;}#sk-container-id-7 div.sk-serial::before {content: \"\";position: absolute;border-left: 1px solid gray;box-sizing: border-box;top: 0;bottom: 0;left: 50%;z-index: 0;}#sk-container-id-7 div.sk-serial {display: flex;flex-direction: column;align-items: center;background-color: white;padding-right: 0.2em;padding-left: 0.2em;position: relative;}#sk-container-id-7 div.sk-item {position: relative;z-index: 1;}#sk-container-id-7 div.sk-parallel {display: flex;align-items: stretch;justify-content: center;background-color: white;position: relative;}#sk-container-id-7 div.sk-item::before, #sk-container-id-7 div.sk-parallel-item::before {content: \"\";position: absolute;border-left: 1px solid gray;box-sizing: border-box;top: 0;bottom: 0;left: 50%;z-index: -1;}#sk-container-id-7 div.sk-parallel-item {display: flex;flex-direction: column;z-index: 1;position: relative;background-color: white;}#sk-container-id-7 div.sk-parallel-item:first-child::after {align-self: flex-end;width: 50%;}#sk-container-id-7 div.sk-parallel-item:last-child::after {align-self: flex-start;width: 50%;}#sk-container-id-7 div.sk-parallel-item:only-child::after {width: 0;}#sk-container-id-7 div.sk-dashed-wrapped {border: 1px dashed gray;margin: 0 0.4em 0.5em 0.4em;box-sizing: border-box;padding-bottom: 0.4em;background-color: white;}#sk-container-id-7 div.sk-label label {font-family: monospace;font-weight: bold;display: inline-block;line-height: 1.2em;}#sk-container-id-7 div.sk-label-container {text-align: center;}#sk-container-id-7 div.sk-container {/* jupyter's `normalize.less` sets `[hidden] { display: none; }` but bootstrap.min.css set `[hidden] { display: none !important; }` so we also need the `!important` here to be able to override the default hidden behavior on the sphinx rendered scikit-learn.org. See: https://github.com/scikit-learn/scikit-learn/issues/21755 */display: inline-block !important;position: relative;}#sk-container-id-7 div.sk-text-repr-fallback {display: none;}</style><div id=\"sk-container-id-7\" class=\"sk-top-container\"><div class=\"sk-text-repr-fallback\"><pre>LogisticRegression()</pre><b>In a Jupyter environment, please rerun this cell to show the HTML representation or trust the notebook. <br />On GitHub, the HTML representation is unable to render, please try loading this page with nbviewer.org.</b></div><div class=\"sk-container\" hidden><div class=\"sk-item\"><div class=\"sk-estimator sk-toggleable\"><input class=\"sk-toggleable__control sk-hidden--visually\" id=\"sk-estimator-id-7\" type=\"checkbox\" checked><label for=\"sk-estimator-id-7\" class=\"sk-toggleable__label sk-toggleable__label-arrow\">LogisticRegression</label><div class=\"sk-toggleable__content\"><pre>LogisticRegression()</pre></div></div></div></div></div>"
            ],
            "text/plain": [
              "LogisticRegression()"
            ]
          },
          "execution_count": 151,
          "metadata": {},
          "output_type": "execute_result"
        }
      ],
      "source": [
        "#(4) Build a Logistic Regression Model using test data set and test model using the test dataset.\n",
        "model = LogisticRegression()\n",
        "model.fit(x_train,y_train)"
      ]
    },
    {
      "cell_type": "code",
      "execution_count": null,
      "id": "158730b3-df6f-4adf-b227-cc353df726d3",
      "metadata": {
        "id": "158730b3-df6f-4adf-b227-cc353df726d3"
      },
      "outputs": [],
      "source": [
        "y_pred=model.predict(x_test)"
      ]
    },
    {
      "cell_type": "code",
      "execution_count": null,
      "id": "04a8af70-d80e-42a9-98ce-cea1c721505d",
      "metadata": {
        "id": "04a8af70-d80e-42a9-98ce-cea1c721505d",
        "outputId": "55c7d056-8e72-4ff8-a713-31c08d1dfc89"
      },
      "outputs": [
        {
          "name": "stdout",
          "output_type": "stream",
          "text": [
            "              precision    recall  f1-score   support\n",
            "\n",
            "           0       0.85      1.00      0.92       710\n",
            "           1       0.82      0.07      0.12       138\n",
            "\n",
            "    accuracy                           0.85       848\n",
            "   macro avg       0.83      0.53      0.52       848\n",
            "weighted avg       0.84      0.85      0.79       848\n",
            "\n"
          ]
        }
      ],
      "source": [
        "#(5).Print Classification Report of the model\n",
        "print(classification_report(y_test,y_pred))"
      ]
    }
  ],
  "metadata": {
    "kernelspec": {
      "display_name": "Python 3 (ipykernel)",
      "language": "python",
      "name": "python3"
    },
    "language_info": {
      "codemirror_mode": {
        "name": "ipython",
        "version": 3
      },
      "file_extension": ".py",
      "mimetype": "text/x-python",
      "name": "python",
      "nbconvert_exporter": "python",
      "pygments_lexer": "ipython3",
      "version": "3.11.7"
    },
    "colab": {
      "provenance": [],
      "include_colab_link": true
    }
  },
  "nbformat": 4,
  "nbformat_minor": 5
}